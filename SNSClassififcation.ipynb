{
 "cells": [
  {
   "cell_type": "markdown",
   "metadata": {
    "id": "Q-3QXJb3DNN7"
   },
   "source": [
    "# Claudia SNSClassification\n",
    "Output standard non-standard labels for whats the potential of a baby to have downsyndrome. "
   ]
  },
  {
   "cell_type": "code",
   "execution_count": 1,
   "metadata": {},
   "outputs": [],
   "source": [
    "# !pip install openpyxl pycocotools faster-coco-eval torchmetrics[detection] pandas matplotlib tqdm opencv-python cuda-python torchvision \n",
    "# !pip install scikit-learn\n",
    "# !pip install openpyxl\n",
    "# !pip install pandas\n",
    "# !pip install tf_explain\n"
   ]
  },
  {
   "cell_type": "code",
   "execution_count": 2,
   "metadata": {},
   "outputs": [],
   "source": [
    "# !conda install pytorch torchvision cudatoolkit=10.1 -c pytorch\n"
   ]
  },
  {
   "cell_type": "markdown",
   "metadata": {
    "id": "ptd2erIBGetn"
   },
   "source": [
    "## Imports"
   ]
  },
  {
   "cell_type": "code",
   "execution_count": 4,
   "metadata": {
    "id": "q4QC8RgTDMIX"
   },
   "outputs": [],
   "source": [
    "# clear_output()"
   ]
  },
  {
   "cell_type": "code",
   "execution_count": 21,
   "metadata": {
    "id": "JzUjM6r1GEYh"
   },
   "outputs": [],
   "source": [
    "\n",
    "import torch\n",
    "from IPython.display import clear_output\n",
    "import torchvision\n",
    "import torchvision.models as models\n",
    "from torchvision import transforms\n",
    "from torch.utils.data import Dataset, DataLoader, ConcatDataset\n",
    "from PIL import Image\n",
    "import os\n",
    "from sklearn.model_selection import train_test_split\n",
    "\n"
   ]
  },
  {
   "cell_type": "code",
   "execution_count": 22,
   "metadata": {},
   "outputs": [
    {
     "data": {
      "text/plain": [
       "True"
      ]
     },
     "execution_count": 22,
     "metadata": {},
     "output_type": "execute_result"
    }
   ],
   "source": [
    "torch.cuda.is_available()"
   ]
  },
  {
   "cell_type": "markdown",
   "metadata": {
    "id": "KY8lTs9KGgw3"
   },
   "source": [
    "## Preparing the Dataset\n"
   ]
  },
  {
   "cell_type": "code",
   "execution_count": 23,
   "metadata": {
    "id": "uIPiEpGZ8b7_"
   },
   "outputs": [],
   "source": [
    "\n",
    "# Function to load images and their labels\n",
    "def load_images_and_labels(standard_path, nonstandard_path):\n",
    "    image_paths = []\n",
    "    labels = []  # 1 for Standard, 0 for Non-standard\n",
    "\n",
    "    # Load Non-standard images\n",
    "    for img_name in os.listdir(nonstandard_path):\n",
    "        img_path = os.path.join(nonstandard_path, img_name)\n",
    "        if img_path.lower().endswith(('.png', '.jpg', '.jpeg')):\n",
    "            image_paths.append(img_path)\n",
    "            labels.append(0)  # Non-standard label\n",
    "\n",
    "    # Load Standard images\n",
    "    for img_name in os.listdir(standard_path):\n",
    "        img_path = os.path.join(standard_path, img_name)\n",
    "        if img_path.lower().endswith(('.png', '.jpg', '.jpeg')):\n",
    "            image_paths.append(img_path)\n",
    "            labels.append(1)  # Standard label\n",
    "\n",
    "    return image_paths, labels\n",
    "\n",
    "# Define the Dataset class with conditional transformations\n",
    "class FetalUltrasoundDataset(Dataset):\n",
    "    def __init__(self, image_paths, labels, transform=None, transform_nonstandard=None):\n",
    "        self.image_paths = image_paths\n",
    "        self.labels = labels\n",
    "        self.transform = transform\n",
    "        self.transform_nonstandard = transform_nonstandard\n",
    "\n",
    "    def __len__(self):\n",
    "        return len(self.image_paths)\n",
    "\n",
    "    def __getitem__(self, idx):\n",
    "        image_path = self.image_paths[idx]\n",
    "        image = Image.open(image_path).convert('RGB')\n",
    "        label = self.labels[idx]\n",
    "\n",
    "        if label == 0 and self.transform_nonstandard:\n",
    "            image = self.transform_nonstandard(image)\n",
    "        elif self.transform:\n",
    "            image = self.transform(image)\n",
    "\n",
    "        return image, label\n"
   ]
  },
  {
   "cell_type": "markdown",
   "metadata": {},
   "source": [
    "## Load image paths and labels\n"
   ]
  },
  {
   "cell_type": "code",
   "execution_count": 24,
   "metadata": {},
   "outputs": [
    {
     "name": "stdout",
     "output_type": "stream",
     "text": [
      "Total images loaded: 1684\n"
     ]
    }
   ],
   "source": [
    "\n",
    "standard_path = \"./allStandard/allStandard\"\n",
    "nonstandard_path = \"./allNonStandard\"\n",
    "image_paths, labels = load_images_and_labels(standard_path, nonstandard_path)\n",
    "print(f\"Total images loaded: {len(image_paths)}\")\n"
   ]
  },
  {
   "cell_type": "markdown",
   "metadata": {},
   "source": [
    "## Seperate images (perform data augmentations for train + validation)"
   ]
  },
  {
   "cell_type": "code",
   "execution_count": 25,
   "metadata": {},
   "outputs": [
    {
     "name": "stdout",
     "output_type": "stream",
     "text": [
      "Number of standard images: 1197\n",
      "Number of non-standard images: 487\n"
     ]
    }
   ],
   "source": [
    "def separate_images(image_paths, labels):\n",
    "    standard_images = [img for img, label in zip(image_paths, labels) if label == 1]\n",
    "    nonstandard_images = [img for img, label in zip(image_paths, labels) if label == 0]\n",
    "    return standard_images, nonstandard_images\n",
    "\n",
    "standard_images, nonstandard_images = separate_images(image_paths, labels)\n",
    "print(f\"Number of standard images: {len(standard_images)}\")\n",
    "print(f\"Number of non-standard images: {len(nonstandard_images)}\")\n",
    "\n",
    "# Split for test sets (15%)\n",
    "standard_train, standard_test = train_test_split(standard_images, test_size=0.15, random_state=42)\n",
    "nonstandard_train, nonstandard_test = train_test_split(nonstandard_images, test_size=0.15, random_state=42)\n",
    "\n",
    "# Combine for full test set\n",
    "test_images = standard_test + nonstandard_test   #this should have no augmentations done to it \n",
    "test_labels = [1] * len(standard_test) + [0] * len(nonstandard_test)\n"
   ]
  },
  {
   "cell_type": "code",
   "execution_count": 26,
   "metadata": {},
   "outputs": [],
   "source": [
    "## AUGMENTATIONS on NON STANDARD \n",
    "\n",
    "# Augment non-standard images to balance sizes\n",
    "augmented_nonstandard = []\n",
    "augment_transforms = transforms.Compose([\n",
    "    transforms.RandomResizedCrop(224),\n",
    "    transforms.RandomHorizontalFlip(),\n",
    "    transforms.ColorJitter(brightness=0.1, contrast=0.1, saturation=0.1, hue=0.1),\n",
    "    transforms.RandomRotation(degrees=25),\n",
    "    transforms.ToTensor(),\n",
    "    transforms.Normalize(mean=[0.485, 0.456, 0.406], std=[0.229, 0.224, 0.225]),\n",
    "])\n",
    "\n",
    "for path in nonstandard_train:\n",
    "    image = Image.open(path).convert('RGB')\n",
    "    for _ in range((len(standard_train) // len(nonstandard_train)) + 1):  # Augment to balance\n",
    "        augmented_image = augment_transforms(image)\n",
    "        augmented_nonstandard.append((augmented_image, 0))  # Store as a tuple of (image, label)\n"
   ]
  },
  {
   "cell_type": "code",
   "execution_count": 48,
   "metadata": {},
   "outputs": [
    {
     "name": "stdout",
     "output_type": "stream",
     "text": [
      "2256 2256\n",
      "1804 452\n"
     ]
    }
   ],
   "source": [
    "import torch\n",
    "from torchvision import transforms\n",
    "from torch.utils.data import DataLoader\n",
    "from sklearn.model_selection import train_test_split\n",
    "\n",
    "\n",
    "\n",
    "# Combine and split remaining train and validation sets \n",
    "all_train_images = standard_train + [x[0] for x in augmented_nonstandard]\n",
    "all_train_labels = [1] * len(standard_train) + [0] * len(augmented_nonstandard)\n",
    "\n",
    "print(len(all_train_images), len(all_train_labels))\n",
    "\n",
    "\n",
    "train_images, val_images, train_labels, val_labels = train_test_split(\n",
    "    all_train_images, all_train_labels, test_size=0.2, random_state=42)\n",
    "\n",
    "print(len(train_images), len(val_images))\n",
    "# # Add other necessary imports and class definitions (like FetalUltrasoundDataset)\n",
    "\n",
    "# # Split data\n",
    "# image_paths_train, image_paths_temp, labels_train, labels_temp = train_test_split(\n",
    "#     image_paths, labels, test_size=0.3, random_state=42)\n",
    "\n",
    "# image_paths_val, image_paths_test, labels_val, labels_test = train_test_split(\n",
    "#     image_paths_temp, labels_temp, test_size=0.5, random_state=42)\n",
    "\n",
    "\n",
    "# Transformations for the training data with augmentation\n",
    "train_transforms = transforms.Compose([\n",
    "    transforms.RandomResizedCrop(224),\n",
    "    transforms.RandomHorizontalFlip(),\n",
    "    transforms.ColorJitter(brightness=0.1, contrast=0.1, saturation=0.1, hue=0.1),\n",
    "    transforms.RandomRotation(degrees=25),\n",
    "    transforms.ToTensor(),\n",
    "    transforms.Normalize(mean=[0.485, 0.456, 0.406], std=[0.229, 0.224, 0.225]),\n",
    "])\n",
    "\n",
    "# Transformations for the validation and test data without augmentation\n",
    "eval_transforms = transforms.Compose([\n",
    "    transforms.Resize((224, 224)),\n",
    "    transforms.ToTensor(),\n",
    "    transforms.Normalize(mean=[0.485, 0.456, 0.406], std=[0.229, 0.224, 0.225]),\n",
    "])\n",
    "\n",
    "# Create datasets\n",
    "train_dataset = FetalUltrasoundDataset(image_paths_train, labels_train, transform=train_transforms)\n",
    "val_dataset = FetalUltrasoundDataset(image_paths_val, labels_val, transform=eval_transforms)\n",
    "test_dataset = FetalUltrasoundDataset(image_paths_test, labels_test, transform=eval_transforms)\n",
    "\n",
    "\n",
    "# Creating data loaders\n",
    "train_loader = DataLoader(train_dataset, batch_size=32, shuffle=True)\n",
    "val_loader = DataLoader(val_dataset, batch_size=32, shuffle=False)\n",
    "test_loader = DataLoader(test_dataset, batch_size=32, shuffle=False)\n",
    "\n",
    "# Now you can use these loaders in your model training and evaluation routines.\n"
   ]
  },
  {
   "cell_type": "code",
   "execution_count": 50,
   "metadata": {},
   "outputs": [
    {
     "name": "stdout",
     "output_type": "stream",
     "text": [
      "CUDA is available. Using GPU.\n"
     ]
    }
   ],
   "source": [
    "import torch\n",
    "\n",
    "# Check if CUDA is available\n",
    "if torch.cuda.is_available():\n",
    "    device = torch.device(\"cuda\")\n",
    "    print(\"CUDA is available. Using GPU.\")\n",
    "else:\n",
    "    device = torch.device(\"cpu\")\n",
    "    print(\"CUDA not available. Using CPU.\")"
   ]
  },
  {
   "cell_type": "markdown",
   "metadata": {
    "id": "D6_smsNhGteL"
   },
   "source": [
    "## Train Function"
   ]
  },
  {
   "cell_type": "code",
   "execution_count": 53,
   "metadata": {
    "colab": {
     "base_uri": "https://localhost:8080/"
    },
    "id": "EKiSNsSXOvxK",
    "outputId": "94334227-8c4f-4118-ee1b-51dda0eba38f"
   },
   "outputs": [],
   "source": [
    "\n",
    "# Training function\n",
    "def train_model(model, data_loader, criterion, optimizer, num_epochs=10):\n",
    "    model.train()  # Set model to training mode\n",
    "    for epoch in range(num_epochs):\n",
    "        running_loss = 0.0\n",
    "        for images, labels in data_loader:\n",
    "\n",
    "            images = images.to(device)\n",
    "            labels = labels.to(device)\n",
    "\n",
    "            optimizer.zero_grad()\n",
    "\n",
    "            # Forward pass\n",
    "            outputs = model(images)\n",
    "            loss = criterion(outputs, labels)\n",
    "\n",
    "            # Backward and optimize\n",
    "            loss.backward()\n",
    "            optimizer.step()\n",
    "\n",
    "            running_loss += loss.item() * images.size(0)\n",
    "\n",
    "        epoch_loss = running_loss / len(data_loader.dataset)\n",
    "        print(f'Epoch {epoch+1}/{num_epochs}, Loss: {epoch_loss:.4f}')\n"
   ]
  },
  {
   "cell_type": "markdown",
   "metadata": {
    "id": "D6_smsNhGteL"
   },
   "source": [
    "## Evaluate Function"
   ]
  },
  {
   "cell_type": "markdown",
   "metadata": {
    "id": "UZgXHCP9O8ea"
   },
   "source": [
    "loss function and optimizer"
   ]
  },
  {
   "cell_type": "code",
   "execution_count": 66,
   "metadata": {},
   "outputs": [],
   "source": [
    "from sklearn.metrics import confusion_matrix\n",
    "import numpy as np\n",
    "import seaborn as sns\n",
    "import matplotlib.pyplot as plt\n",
    "\n",
    "def evaluate_model(model, data_loader):\n",
    "    model.eval()  # Set the model to evaluation mode\n",
    "    total = correct = 0\n",
    "    all_predictions = []\n",
    "    all_labels = []\n",
    "\n",
    "    with torch.no_grad():\n",
    "        for images, labels in data_loader:\n",
    "            images = images.to(device)\n",
    "            labels = labels.to(device)\n",
    "            outputs = model(images)\n",
    "            _, predicted = torch.max(outputs.data, 1)\n",
    "            total += labels.size(0)\n",
    "            correct += (predicted == labels).sum().item()\n",
    "\n",
    "            # Collect all labels and predictions for confusion matrix\n",
    "            all_labels.extend(labels.cpu().numpy())\n",
    "            all_predictions.extend(predicted.cpu().numpy())\n",
    "\n",
    "    accuracy = 100 * correct / total\n",
    "    print(f'Accuracy: {accuracy:.2f}%')\n",
    "\n",
    "    # Compute confusion matrix\n",
    "    cm = confusion_matrix(all_labels, all_predictions)\n",
    "    print(\"Confusion Matrix:\")\n",
    "    print(cm)\n",
    "\n",
    "    # Optionally, plot the confusion matrix using seaborn\n",
    "    plt.figure(figsize=(10, 7))\n",
    "    sns.heatmap(cm, annot=True, fmt='d', cmap='Blues', xticklabels=['Non-Standard', 'Standard'], yticklabels=['Non-Standard', 'Standard'])\n",
    "    plt.xlabel('Predicted Labels')\n",
    "    plt.ylabel('True Labels')\n",
    "    plt.title('Confusion Matrix')\n",
    "    plt.show()\n"
   ]
  },
  {
   "cell_type": "markdown",
   "metadata": {
    "id": "D6_smsNhGteL"
   },
   "source": [
    "### Methodology 1 : Freeze all retrain last layer "
   ]
  },
  {
   "cell_type": "markdown",
   "metadata": {},
   "source": [
    "## Iteration 1: Resnet18 + Batchsize 32"
   ]
  },
  {
   "cell_type": "code",
   "execution_count": 52,
   "metadata": {},
   "outputs": [],
   "source": [
    "\n",
    "model = models.resnet18(pretrained=True)\n",
    "num_ftrs = model.fc.in_features\n",
    "model.fc = torch.nn.Linear(num_ftrs, 2)\n",
    "model = model.to(device)\n",
    "\n",
    "\n",
    "# Define the loss function and optimizer\n",
    "criterion = torch.nn.CrossEntropyLoss()\n",
    "optimizer = torch.optim.Adam(model.parameters(), lr=0.001)\n",
    "\n"
   ]
  },
  {
   "cell_type": "code",
   "execution_count": 54,
   "metadata": {},
   "outputs": [
    {
     "name": "stdout",
     "output_type": "stream",
     "text": [
      "Epoch 1/10, Loss: 0.6048\n",
      "Epoch 2/10, Loss: 0.3377\n",
      "Epoch 3/10, Loss: 0.3540\n",
      "Epoch 4/10, Loss: 0.3391\n",
      "Epoch 5/10, Loss: 0.3412\n",
      "Epoch 6/10, Loss: 0.2899\n",
      "Epoch 7/10, Loss: 0.3132\n",
      "Epoch 8/10, Loss: 0.3001\n",
      "Epoch 9/10, Loss: 0.2613\n",
      "Epoch 10/10, Loss: 0.2652\n"
     ]
    }
   ],
   "source": [
    "train_model(model, train_loader, criterion, optimizer)\n"
   ]
  },
  {
   "cell_type": "code",
   "execution_count": 56,
   "metadata": {},
   "outputs": [
    {
     "name": "stdout",
     "output_type": "stream",
     "text": [
      "Accuracy: 69.57%\n",
      "Accuracy: 71.54%\n"
     ]
    }
   ],
   "source": [
    "## For test \n",
    "evaluate_model(model, val_loader)\n",
    "evaluate_model(model, test_loader)"
   ]
  },
  {
   "cell_type": "markdown",
   "metadata": {},
   "source": [
    "## Iteration 2: Resnet 34 + Batchsize 32"
   ]
  },
  {
   "cell_type": "code",
   "execution_count": 58,
   "metadata": {},
   "outputs": [
    {
     "name": "stdout",
     "output_type": "stream",
     "text": [
      "Epoch 1/10, Loss: 0.5925\n",
      "Epoch 2/10, Loss: 0.3931\n",
      "Epoch 3/10, Loss: 0.3579\n",
      "Epoch 4/10, Loss: 0.3258\n",
      "Epoch 5/10, Loss: 0.3300\n",
      "Epoch 6/10, Loss: 0.3288\n",
      "Epoch 7/10, Loss: 0.3265\n",
      "Epoch 8/10, Loss: 0.3186\n",
      "Epoch 9/10, Loss: 0.3016\n",
      "Epoch 10/10, Loss: 0.2714\n"
     ]
    }
   ],
   "source": [
    "\n",
    "# Load a pretrained ResNet model and modify it for binary classification\n",
    "model = models.resnet34(pretrained=True)\n",
    "num_ftrs = model.fc.in_features\n",
    "model.fc = torch.nn.Linear(num_ftrs, 2)\n",
    "model = model.to(device)\n",
    "\n",
    "# Define the loss function and optimizer\n",
    "criterion = torch.nn.CrossEntropyLoss()\n",
    "optimizer = torch.optim.Adam(model.parameters(), lr=0.001)\n",
    "\n",
    "train_model(model, train_loader, criterion, optimizer)\n"
   ]
  },
  {
   "cell_type": "code",
   "execution_count": 59,
   "metadata": {},
   "outputs": [
    {
     "name": "stdout",
     "output_type": "stream",
     "text": [
      "Accuracy: 75.89%\n",
      "Accuracy: 69.17%\n"
     ]
    }
   ],
   "source": [
    "## For test \n",
    "evaluate_model(model, val_loader)\n",
    "evaluate_model(model, test_loader)"
   ]
  },
  {
   "cell_type": "code",
   "execution_count": null,
   "metadata": {},
   "outputs": [],
   "source": []
  },
  {
   "cell_type": "code",
   "execution_count": null,
   "metadata": {},
   "outputs": [],
   "source": []
  },
  {
   "cell_type": "code",
   "execution_count": null,
   "metadata": {},
   "outputs": [],
   "source": []
  },
  {
   "cell_type": "markdown",
   "metadata": {},
   "source": [
    "## Iteration 3: RESNET 34 + Batchsize 64"
   ]
  },
  {
   "cell_type": "code",
   "execution_count": 61,
   "metadata": {},
   "outputs": [],
   "source": [
    "\n",
    "# Creating data loaders\n",
    "train_loader_64 = DataLoader(train_dataset, batch_size=64, shuffle=True)\n",
    "val_loader_64 = DataLoader(val_dataset, batch_size=64, shuffle=False)\n",
    "test_loader_64 = DataLoader(test_dataset, batch_size=64, shuffle=False)\n"
   ]
  },
  {
   "cell_type": "code",
   "execution_count": 62,
   "metadata": {},
   "outputs": [
    {
     "name": "stdout",
     "output_type": "stream",
     "text": [
      "Epoch 1/10, Loss: 0.6033\n",
      "Epoch 2/10, Loss: 0.4110\n",
      "Epoch 3/10, Loss: 0.3939\n",
      "Epoch 4/10, Loss: 0.3390\n",
      "Epoch 5/10, Loss: 0.3330\n",
      "Epoch 6/10, Loss: 0.3037\n",
      "Epoch 7/10, Loss: 0.2977\n",
      "Epoch 8/10, Loss: 0.3154\n",
      "Epoch 9/10, Loss: 0.3110\n",
      "Epoch 10/10, Loss: 0.3234\n"
     ]
    }
   ],
   "source": [
    "\n",
    "# Load a pretrained ResNet model and modify it for binary classification\n",
    "model = models.resnet34(pretrained=True)\n",
    "num_ftrs = model.fc.in_features\n",
    "model.fc = torch.nn.Linear(num_ftrs, 2)\n",
    "model = model.to(device)\n",
    "\n",
    "# Define the loss function and optimizer\n",
    "criterion = torch.nn.CrossEntropyLoss()\n",
    "optimizer = torch.optim.Adam(model.parameters(), lr=0.001)\n",
    "\n",
    "train_model(model, train_loader, criterion, optimizer)\n"
   ]
  },
  {
   "cell_type": "code",
   "execution_count": 67,
   "metadata": {},
   "outputs": [
    {
     "name": "stdout",
     "output_type": "stream",
     "text": [
      "Accuracy: 88.54%\n",
      "Confusion Matrix:\n",
      "[[ 46  19]\n",
      " [ 10 178]]\n"
     ]
    },
    {
     "data": {
      "image/png": "[encoded data removed]",
      "text/plain": [
       "<Figure size 1000x700 with 2 Axes>"
      ]
     },
     "metadata": {},
     "output_type": "display_data"
    },
    {
     "name": "stdout",
     "output_type": "stream",
     "text": [
      "Accuracy: 89.33%\n",
      "Confusion Matrix:\n",
      "[[ 62  19]\n",
      " [  8 164]]\n"
     ]
    },
    {
     "data": {
      "image/png": "[encoded data removed]",
      "text/plain": [
       "<Figure size 1000x700 with 2 Axes>"
      ]
     },
     "metadata": {},
     "output_type": "display_data"
    }
   ],
   "source": [
    "## For test \n",
    "evaluate_model(model, val_loader)\n",
    "evaluate_model(model, test_loader)"
   ]
  },
  {
   "cell_type": "code",
   "execution_count": null,
   "metadata": {},
   "outputs": [],
   "source": []
  },
  {
   "cell_type": "code",
   "execution_count": null,
   "metadata": {},
   "outputs": [],
   "source": []
  },
  {
   "cell_type": "code",
   "execution_count": null,
   "metadata": {},
   "outputs": [],
   "source": []
  },
  {
   "cell_type": "code",
   "execution_count": null,
   "metadata": {},
   "outputs": [],
   "source": []
  },
  {
   "cell_type": "code",
   "execution_count": null,
   "metadata": {},
   "outputs": [],
   "source": []
  },
  {
   "cell_type": "code",
   "execution_count": null,
   "metadata": {},
   "outputs": [],
   "source": []
  },
  {
   "cell_type": "markdown",
   "metadata": {},
   "source": [
    "## Iteration 4: RESNET 18 + Batchsize 64\n"
   ]
  },
  {
   "cell_type": "code",
   "execution_count": 69,
   "metadata": {},
   "outputs": [
    {
     "name": "stderr",
     "output_type": "stream",
     "text": [
      "/opt/conda/lib/python3.11/site-packages/torchvision/models/_utils.py:208: UserWarning: The parameter 'pretrained' is deprecated since 0.13 and may be removed in the future, please use 'weights' instead.\n",
      "  warnings.warn(\n",
      "/opt/conda/lib/python3.11/site-packages/torchvision/models/_utils.py:223: UserWarning: Arguments other than a weight enum or `None` for 'weights' are deprecated since 0.13 and may be removed in the future. The current behavior is equivalent to passing `weights=ResNet18_Weights.IMAGENET1K_V1`. You can also use `weights=ResNet18_Weights.DEFAULT` to get the most up-to-date weights.\n",
      "  warnings.warn(msg)\n"
     ]
    },
    {
     "name": "stdout",
     "output_type": "stream",
     "text": [
      "Epoch 1/10, Loss: 0.5838\n",
      "Epoch 2/10, Loss: 0.3778\n",
      "Epoch 3/10, Loss: 0.3570\n",
      "Epoch 4/10, Loss: 0.3353\n",
      "Epoch 5/10, Loss: 0.3092\n",
      "Epoch 6/10, Loss: 0.2879\n",
      "Epoch 7/10, Loss: 0.2920\n",
      "Epoch 8/10, Loss: 0.2942\n",
      "Epoch 9/10, Loss: 0.2938\n",
      "Epoch 10/10, Loss: 0.2569\n"
     ]
    }
   ],
   "source": [
    "\n",
    "# Load a pretrained ResNet model and modify it for binary classification\n",
    "model = models.resnet18(pretrained=True)\n",
    "num_ftrs = model.fc.in_features\n",
    "model.fc = torch.nn.Linear(num_ftrs, 2)\n",
    "model = model.to(device)\n",
    "\n",
    "# Define the loss function and optimizer\n",
    "criterion = torch.nn.CrossEntropyLoss()\n",
    "optimizer = torch.optim.Adam(model.parameters(), lr=0.001)\n",
    "\n",
    "train_model(model, train_loader, criterion, optimizer)\n"
   ]
  },
  {
   "cell_type": "code",
   "execution_count": 70,
   "metadata": {},
   "outputs": [
    {
     "name": "stdout",
     "output_type": "stream",
     "text": [
      "Accuracy: 88.54%\n",
      "Confusion Matrix:\n",
      "[[ 61   4]\n",
      " [ 25 163]]\n"
     ]
    },
    {
     "data": {
      "image/png": "[encoded data removed]",
      "text/plain": [
       "<Figure size 1000x700 with 2 Axes>"
      ]
     },
     "metadata": {},
     "output_type": "display_data"
    },
    {
     "name": "stdout",
     "output_type": "stream",
     "text": [
      "Accuracy: 85.77%\n",
      "Confusion Matrix:\n",
      "[[ 79   2]\n",
      " [ 34 138]]\n"
     ]
    },
    {
     "data": {
      "image/png": "[encoded data removed]",
      "text/plain": [
       "<Figure size 1000x700 with 2 Axes>"
      ]
     },
     "metadata": {},
     "output_type": "display_data"
    }
   ],
   "source": [
    "## For test \n",
    "evaluate_model(model, val_loader)\n",
    "evaluate_model(model, test_loader)"
   ]
  },
  {
   "cell_type": "code",
   "execution_count": null,
   "metadata": {},
   "outputs": [],
   "source": []
  },
  {
   "cell_type": "code",
   "execution_count": null,
   "metadata": {},
   "outputs": [],
   "source": []
  },
  {
   "cell_type": "code",
   "execution_count": null,
   "metadata": {},
   "outputs": [],
   "source": []
  },
  {
   "cell_type": "markdown",
   "metadata": {},
   "source": [
    "## Iteration 5: RESNET 50 + Batchsize 64\n"
   ]
  },
  {
   "cell_type": "code",
   "execution_count": null,
   "metadata": {},
   "outputs": [],
   "source": [
    "\n",
    "# Load a pretrained ResNet model and modify it for binary classification\n",
    "model = models.resnet50(pretrained=True)\n",
    "num_ftrs = model.fc.in_features\n",
    "model.fc = torch.nn.Linear(num_ftrs, 2)\n",
    "\n",
    "# Define the loss function and optimizer\n",
    "criterion = torch.nn.CrossEntropyLoss()\n",
    "optimizer = torch.optim.Adam(model.parameters(), lr=0.001)\n",
    "\n",
    "train_model(model, train_loader, criterion, optimizer)\n"
   ]
  },
  {
   "cell_type": "code",
   "execution_count": null,
   "metadata": {},
   "outputs": [],
   "source": [
    "## For test \n",
    "evaluate_model(model, val_loader, criterion)\n",
    "evaluate_model(model, test_loader, criterion)"
   ]
  },
  {
   "cell_type": "code",
   "execution_count": null,
   "metadata": {},
   "outputs": [],
   "source": [
    "## "
   ]
  },
  {
   "cell_type": "markdown",
   "metadata": {
    "id": "UVH6BCEg-m8T"
   },
   "source": [
    "### Methodology 2: Freeze all retrain last layer \n",
    "epochs 15\n",
    "LR 0.001\n"
   ]
  },
  {
   "cell_type": "markdown",
   "metadata": {
    "id": "bG4YnozZ-f9X"
   },
   "source": [
    "## Iteration 6: RESNET 50 + Batchsize 64\n"
   ]
  }
 ],
 "metadata": {
  "colab": {
   "provenance": []
  },
  "kernelspec": {
   "display_name": "Python 3 (ipykernel)",
   "language": "python",
   "name": "python3"
  },
  "language_info": {
   "codemirror_mode": {
    "name": "ipython",
    "version": 3
   },
   "file_extension": ".py",
   "mimetype": "text/x-python",
   "name": "python",
   "nbconvert_exporter": "python",
   "pygments_lexer": "ipython3",
   "version": "3.11.6"
  }
 },
 "nbformat": 4,
 "nbformat_minor": 4
}
