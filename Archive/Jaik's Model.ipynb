{
 "cells": [
  {
   "cell_type": "markdown",
   "metadata": {},
   "source": [
    "Identification"
   ]
  },
  {
   "cell_type": "code",
   "execution_count": 1,
   "metadata": {},
   "outputs": [],
   "source": [
    "import os\n",
    "import torch\n",
    "import torch.nn as nn\n",
    "import torch.nn.functional as F\n",
    "import torch.optim as optim\n",
    "import torchvision.transforms as transforms\n",
    "from torch.utils.data import DataLoader, Dataset\n",
    "from torchvision.utils import draw_bounding_boxes\n",
    "from torchvision.models import resnet34, ResNet34_Weights\n",
    "from torchvision.ops import RoIPool\n",
    "from torch.optim.lr_scheduler import StepLR\n",
    "from PIL import Image\n",
    "import pandas as pd\n",
    "from torch.utils.data import random_split\n",
    "from tqdm import tqdm\n",
    "import matplotlib.pyplot as plt\n",
    "import numpy as np"
   ]
  },
  {
   "cell_type": "code",
   "execution_count": 2,
   "metadata": {},
   "outputs": [],
   "source": [
    "os.environ['CUDA_LAUNCH_BLOCKING'] = \"1\"\n",
    "\n",
    "# Set PYTORCH_CUDA_ALLOC_CONF environment variable\n",
    "os.environ[\"PYTORCH_CUDA_ALLOC_CONF\"] = \"expandable_segments:True\"\n"
   ]
  },
  {
   "cell_type": "code",
   "execution_count": 3,
   "metadata": {},
   "outputs": [],
   "source": [
    "class FetusDetector(nn.Module):\n",
    "    def __init__(self, num_classes):\n",
    "        super(FetusDetector, self).__init__()\n",
    "        resnet = resnet34(weights=ResNet34_Weights.DEFAULT)\n",
    "        layers = list(resnet.children())[:8]\n",
    "        self.features1 = nn.Sequential(*layers[:6])\n",
    "        self.features2 = nn.Sequential(*layers[6:])\n",
    "        self.roi_pool = RoIPool(output_size=(1, 1), spatial_scale=1.0)\n",
    "        self.classifier = nn.Sequential(nn.BatchNorm1d(516).double(), nn.Linear(516, num_classes).double())\n",
    "        self.bb = nn.Sequential(nn.BatchNorm1d(516).double(), nn.Linear(516, 4).double())\n",
    "\n",
    "    def forward(self, image, box):\n",
    "        x = self.features1(image)\n",
    "        x = self.features2(x)\n",
    "        x = F.relu(x)\n",
    "        x = nn.AdaptiveAvgPool2d((1, 1))(x)\n",
    "        x = x.view(x.shape[0], -1)\n",
    "        box = box.view(box.size(0), -1)\n",
    "        x = torch.cat((x, box), dim=1)\n",
    "        cls_logits = self.classifier(x.double())\n",
    "        bbox_logits = self.bb(x.double())\n",
    "        return cls_logits, bbox_logits\n"
   ]
  },
  {
   "cell_type": "code",
   "execution_count": 4,
   "metadata": {},
   "outputs": [],
   "source": [
    "class FetusDataset(Dataset):\n",
    "    def __init__(self, data_dir, labels_file, transform=None):\n",
    "        self.data_dir = data_dir\n",
    "        self.labels_df = pd.read_excel(labels_file)\n",
    "        self.transform = transform\n",
    "        self.label_map = {\n",
    "            'thalami': 0,\n",
    "            'nasal bone': 1,\n",
    "            'palate': 2,\n",
    "            'nasal skin': 3,\n",
    "            'nasal tip': 4,\n",
    "            'midbrain': 5,\n",
    "            'NT': 6,\n",
    "            'IT': 7,\n",
    "            'CM': 8\n",
    "        }\n",
    "\n",
    "        self.transform_PIL = transforms.Compose([\n",
    "            transforms.ToPILImage()\n",
    "        ])\n",
    "\n",
    "        self.transform_tensor = transforms.Compose([\n",
    "            transforms.PILToTensor()\n",
    "        ])\n",
    "\n",
    "        self.labels_df = self.labels_df[self.labels_df.apply(lambda x: os.path.exists(os.path.join(self.data_dir, x[\"fname\"])), axis=1)]\n",
    "\n",
    "\n",
    "    def __len__(self):\n",
    "        return len(self.labels_df)\n",
    "\n",
    "    def __getitem__(self, idx):\n",
    "        img_name = os.path.join(self.data_dir, self.labels_df.iloc[idx, 0])\n",
    "\n",
    "        # Check if the image file exists\n",
    "        if not os.path.exists(img_name):\n",
    "            return None\n",
    "\n",
    "        # Load the original image\n",
    "        image = Image.open(img_name).convert('RGB')\n",
    "        image_T = self.transform_tensor(image)\n",
    "\n",
    "        h_min, w_min, h_max, w_max = self.labels_df.iloc[idx, 2:].values.astype(float)\n",
    "        box = torch.tensor([w_min,h_min,w_max,h_max]).unsqueeze(0)\n",
    "\n",
    "        label_id = self.label_map.get(self.labels_df.iloc[idx, 1])\n",
    "\n",
    "\n",
    "        # Rescale the bounding box coordinates\n",
    "        _, original_image_height, original_image_width = image_T.shape\n",
    "\n",
    "        # image_box_unscaled = draw_bounding_boxes(image_T, box, labels=[self.labels_df.iloc[idx, 1]],font=rf\"Ariel\\arial.ttf\",font_size=30 ,width=3, colors=\"red\")\n",
    "\n",
    "        if self.transform:\n",
    "            image = self.transform(image)\n",
    "\n",
    "         # Rescale the bounding box coordinates\n",
    "        _, new_image_height, new_image_width = image.shape\n",
    "        scaled_box = box.clone()\n",
    "        scaled_box[0, 0] *= (new_image_width / original_image_width)  # Scale x_min\n",
    "        scaled_box[0, 1] *= (new_image_height / original_image_height)  # Scale y_min\n",
    "        scaled_box[0, 2] *= (new_image_width / original_image_width)  # Scale x_max\n",
    "        scaled_box[0, 3] *= (new_image_height / original_image_height)  # Scale y_max\n",
    "\n",
    "        # image_s = image.type(torch.uint8)\n",
    "        # image_box_scaled = draw_bounding_boxes(image_s, scaled_box, labels=[self.labels_df.iloc[idx, 1]],font=rf\"\\Ariel\\arial.ttf\",font_size=30 ,width=3, colors=\"red\")\n",
    "\n",
    "        # img1 = transforms.ToPILImage()(image_box_unscaled)\n",
    "        # img2 = transforms.ToPILImage()(image_box_scaled)\n",
    "        # img1.show()\n",
    "        # img2.show()\n",
    "\n",
    "\n",
    "        return image, scaled_box, label_id\n"
   ]
  },
  {
   "cell_type": "code",
   "execution_count": 5,
   "metadata": {},
   "outputs": [],
   "source": [
    "# Define paths to your data and labels file\n",
    "data_dir = 'Dataset for Fetus Framework\\Training\\Standard'\n",
    "labels_file = 'ObjectDetection.xlsx'\n",
    "\n",
    "# Define transform for data augmentation and normalization\n",
    "transform = transforms.Compose([\n",
    "    transforms.Resize((470, 650)),\n",
    "    transforms.ToTensor(),\n",
    "    transforms.Normalize([0.485, 0.456, 0.406], [0.229, 0.224, 0.225])\n",
    "])\n",
    "\n",
    "# Load the dataset and split into training and validation sets\n",
    "dataset = FetusDataset(data_dir, labels_file, transform=transform)\n",
    "\n",
    "# Check if any samples are left in the dataset\n",
    "if not dataset:\n",
    "    raise ValueError(\"No valid samples found in the dataset\")\n"
   ]
  },
  {
   "cell_type": "code",
   "execution_count": 6,
   "metadata": {},
   "outputs": [],
   "source": [
    "train_dataset, ground_dataset = random_split(dataset, [0.8, 0.2])\n",
    "\n",
    "train_loader = DataLoader(train_dataset, batch_size=32, shuffle=True)#, num_workers=12, persistent_workers=True)\n",
    "\n",
    "val_loader = DataLoader(ground_dataset, batch_size=32, shuffle=True)#, num_workers=12, persistent_workers=True)\n"
   ]
  },
  {
   "cell_type": "code",
   "execution_count": 7,
   "metadata": {},
   "outputs": [
    {
     "name": "stderr",
     "output_type": "stream",
     "text": [
      "c:\\Users\\midni\\anaconda3\\envs\\ADL_project\\lib\\site-packages\\torch\\nn\\modules\\module.py:1150: UserWarning: expandable_segments not supported on this platform (Triggered internally at C:\\cb\\pytorch_1000000000000\\work\\c10/cuda/CUDAAllocatorConfig.h:30.)\n",
      "  return t.to(device, dtype if t.is_floating_point() or t.is_complex() else None, non_blocking)\n"
     ]
    }
   ],
   "source": [
    "device = torch.device(\"cuda\" if torch.cuda.is_available() else \"cpu\")\n",
    "\n",
    "model = FetusDetector(num_classes=9).to(device)\n",
    "\n",
    "model.to(device)\n",
    "\n",
    "criterion = nn.CrossEntropyLoss()\n",
    "\n",
    "optimizer = optim.Adam(model.parameters(), lr=0.001)\n",
    "\n",
    "scheduler = StepLR(optimizer, step_size=10, gamma=0.1)"
   ]
  },
  {
   "cell_type": "code",
   "execution_count": 8,
   "metadata": {},
   "outputs": [],
   "source": [
    "# Define smooth L1 loss for bounding box regression\n",
    "def smooth_l1_loss(prediction, target, beta=1.0):\n",
    "    diff = torch.abs(prediction - target)\n",
    "    smooth_l1_loss = torch.where(diff < beta, 0.5 * diff ** 2 / beta, diff - 0.5 * beta)\n",
    "    return smooth_l1_loss.mean()"
   ]
  },
  {
   "cell_type": "code",
   "execution_count": 9,
   "metadata": {},
   "outputs": [
    {
     "name": "stderr",
     "output_type": "stream",
     "text": [
      "Epoch 1/40:   0%|          | 0/221 [00:00<?, ?it/s]"
     ]
    },
    {
     "ename": "",
     "evalue": "",
     "output_type": "error",
     "traceback": [
      "\u001b[1;31mThe Kernel crashed while executing code in the current cell or a previous cell. \n",
      "\u001b[1;31mPlease review the code in the cell(s) to identify a possible cause of the failure. \n",
      "\u001b[1;31mClick <a href='https://aka.ms/vscodeJupyterKernelCrash'>here</a> for more info. \n",
      "\u001b[1;31mView Jupyter <a href='command:jupyter.viewOutput'>log</a> for further details."
     ]
    }
   ],
   "source": [
    "num_epochs = 40\n",
    "best_val_loss = float('inf')\n",
    "\n",
    "for epoch in range(num_epochs):\n",
    "    model.train()\n",
    "    running_loss = 0.0\n",
    "    running_accuracy = 0.0\n",
    "\n",
    "    for image, box, label in tqdm(train_loader, desc=f'Epoch {epoch+1}/{num_epochs}'):\n",
    "        optimizer.zero_grad()\n",
    "\n",
    "        # Forward pass\n",
    "        cls_logits, bbox_logits = model(image, box)\n",
    "\n",
    "        # Calculate classification and bounding box regression losses\n",
    "        loss_cls = F.cross_entropy(cls_logits, label)\n",
    "        loss_bbox = smooth_l1_loss(bbox_logits, box)\n",
    "\n",
    "        # Total loss\n",
    "        loss = loss_cls + loss_bbox\n",
    "\n",
    "        # Backward pass\n",
    "        loss.backward()\n",
    "\n",
    "        # Update parameters\n",
    "        optimizer.step()\n",
    "\n",
    "        # Compute accuracy\n",
    "        _, predicted = torch.max(cls_logits, 1)\n",
    "        correct = (predicted == label).sum().item()\n",
    "        accuracy = correct / label.size(0)\n",
    "\n",
    "        # Update running loss\n",
    "        running_loss += loss.item()\n",
    "        running_accuracy += accuracy\n",
    "\n",
    "    # Calculate average loss per epoch\n",
    "    avg_loss = running_loss / len(train_loader)\n",
    "    avg_acc = running_accuracy / len(train_loader)\n",
    "\n",
    "    print(f\"Epoch {epoch+1}, Avg. Loss: {avg_loss}, Avg. accuracy: {avg_acc}\")\n",
    "\n",
    "    scheduler.step()\n"
   ]
  },
  {
   "cell_type": "code",
   "execution_count": null,
   "metadata": {},
   "outputs": [
    {
     "ename": "NameError",
     "evalue": "name 'model' is not defined",
     "output_type": "error",
     "traceback": [
      "\u001b[1;31m---------------------------------------------------------------------------\u001b[0m",
      "\u001b[1;31mNameError\u001b[0m                                 Traceback (most recent call last)",
      "Cell \u001b[1;32mIn[3], line 1\u001b[0m\n\u001b[1;32m----> 1\u001b[0m torch\u001b[38;5;241m.\u001b[39msave(\u001b[43mmodel\u001b[49m\u001b[38;5;241m.\u001b[39mstate_dict(), \u001b[38;5;124m'\u001b[39m\u001b[38;5;124mlmao3.pt\u001b[39m\u001b[38;5;124m'\u001b[39m)\n",
      "\u001b[1;31mNameError\u001b[0m: name 'model' is not defined"
     ]
    }
   ],
   "source": [
    "torch.save(model.state_dict(), 'lmao4.pt')"
   ]
  },
  {
   "cell_type": "code",
   "execution_count": null,
   "metadata": {},
   "outputs": [],
   "source": [
    "# Validation loop with visualization\n",
    "model.eval()\n",
    "with torch.no_grad():\n",
    "    for images, labels, boxes in tqdm(val_loader, desc='Validation'):\n",
    "        outputs = model(images)\n",
    "        _, predicted = torch.max(outputs, 1)\n",
    "\n",
    "        # Convert images to numpy arrays\n",
    "        np_images = images.numpy()\n",
    "        np_images = np.transpose(np_images, (0, 2, 3, 1))\n",
    "\n",
    "        # Iterate over each image in the batch\n",
    "        for i in range(len(images)):\n",
    "            # Convert tensor to numpy array\n",
    "            img_np = np_images[i]\n",
    "            img_np = 0.5 * (img_np + 1)  # Unnormalize image\n",
    "\n",
    "            # Display the image\n",
    "            plt.imshow(img_np)\n",
    "            plt.axis('off')\n",
    "\n",
    "            # Get bounding box coordinates\n",
    "            box = boxes[i].numpy()\n",
    "            x_min, y_min, x_max, y_max = box[0], box[1], box[2], box[3]\n",
    "\n",
    "            # Add bounding box to the image\n",
    "            plt.plot([x_min, x_max, x_max, x_min, x_min], [y_min, y_min, y_max, y_max, y_min], color='red', linewidth=2)\n",
    "\n",
    "            # Display class label\n",
    "            plt.text(x_min, y_min, f'Class: {labels[i]}', color='red', fontsize=12, verticalalignment='top')\n",
    "\n",
    "            # Show the image with bounding box\n",
    "            plt.show()\n"
   ]
  },
  {
   "cell_type": "markdown",
   "metadata": {},
   "source": [
    "Classification"
   ]
  }
 ],
 "metadata": {
  "kernelspec": {
   "display_name": "Python 3 (ipykernel)",
   "language": "python",
   "name": "python3"
  },
  "language_info": {
   "codemirror_mode": {
    "name": "ipython",
    "version": 3
   },
   "file_extension": ".py",
   "mimetype": "text/x-python",
   "name": "python",
   "nbconvert_exporter": "python",
   "pygments_lexer": "ipython3",
   "version": "3.8.19"
  },
  "widgets": {
   "application/vnd.jupyter.widget-state+json": {
    "state": {},
    "version_major": 2,
    "version_minor": 0
   }
  }
 },
 "nbformat": 4,
 "nbformat_minor": 4
}
